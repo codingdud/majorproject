{
 "cells": [
  {
   "cell_type": "code",
   "execution_count": 1,
   "id": "b1597fe5-b4d3-4230-995a-64dd0d6e524c",
   "metadata": {},
   "outputs": [],
   "source": [
    "import face_recognition\n",
    "import cv2\n",
    "import numpy as np\n",
    "import os"
   ]
  },
  {
   "cell_type": "code",
   "execution_count": 2,
   "id": "1f687a9e-8d82-41df-a940-8c87421e6abb",
   "metadata": {},
   "outputs": [],
   "source": [
    "reference_image = face_recognition.load_image_file(\"./refrence/rf.jpg\")\n",
    "reference_encoding = face_recognition.face_encodings(reference_image)[0]\n"
   ]
  },
  {
   "cell_type": "code",
   "execution_count": 3,
   "id": "e712338b-1ba0-46ee-b004-3d507f21b63b",
   "metadata": {},
   "outputs": [],
   "source": [
    "known_encodings = [reference_encoding]\n",
    "known_names = [\"Akanoob\"]"
   ]
  },
  {
   "cell_type": "code",
   "execution_count": 4,
   "id": "7268f5ba-c0ed-4db5-aed9-e9a9da7e18ba",
   "metadata": {},
   "outputs": [
    {
     "name": "stdout",
     "output_type": "stream",
     "text": [
      "['IMG-20240727-WA0058.jpg', 'IMG-20240727-WA0059.jpg', 'IMG-20240727-WA0060.jpg', 'IMG-20240727-WA0061.jpg', 'IMG-20240727-WA0062.jpg', 'IMG-20240727-WA0063.jpg', 'IMG-20240727-WA0064.jpg', 'IMG-20240727-WA0065.jpg', 'IMG-20240727-WA0066.jpg', 'IMG-20240727-WA0067.jpg', 'IMG-20240727-WA0068.jpg', 'IMG-20240727-WA0069.jpg', 'IMG-20240727-WA0070.jpg', 'IMG-20240727-WA0071.jpg', 'IMG-20240727-WA0072.jpg', 'IMG-20240727-WA0073.jpg', 'IMG-20240727-WA0074.jpg', 'IMG-20240727-WA0075.jpg', 'IMG-20240727-WA0076.jpg']\n"
     ]
    }
   ],
   "source": [
    "import os\n",
    "# Specify the directory\n",
    "directory = './images'\n",
    "# Get the list of files in the directory\n",
    "files = os.listdir(directory)\n",
    "# Initialize an empty list to store image file names\n",
    "image_paths_to_search = []\n",
    "# Append each image file name to the list\n",
    "for file in files:\n",
    "    if file.lower().endswith(('.png', '.jpg', '.jpeg', '.gif')):\n",
    "        image_paths_to_search.append(file)\n",
    "# Print the list of image file names\n",
    "print(image_paths_to_search)"
   ]
  },
  {
   "cell_type": "code",
   "execution_count": 5,
   "id": "f0c0facd-1159-4164-9cab-6f424e2a2ac7",
   "metadata": {},
   "outputs": [
    {
     "name": "stdout",
     "output_type": "stream",
     "text": [
      "No match found in IMG-20240727-WA0059.jpg\n",
      "No match found in IMG-20240727-WA0060.jpg\n",
      "No match found in IMG-20240727-WA0060.jpg\n",
      "Match found in IMG-20240727-WA0061.jpg: Akanoob\n",
      "Face distance: 0.39635785644046473\n",
      "No match found in IMG-20240727-WA0063.jpg\n",
      "Match found in IMG-20240727-WA0065.jpg: Akanoob\n",
      "Face distance: 0.5925306250536937\n",
      "No match found in IMG-20240727-WA0066.jpg\n",
      "No match found in IMG-20240727-WA0067.jpg\n",
      "No match found in IMG-20240727-WA0067.jpg\n",
      "No match found in IMG-20240727-WA0067.jpg\n",
      "Match found in IMG-20240727-WA0068.jpg: Akanoob\n",
      "Face distance: 0.22738122328373056\n",
      "No match found in IMG-20240727-WA0069.jpg\n",
      "Match found in IMG-20240727-WA0071.jpg: Akanoob\n",
      "Face distance: 0.323920799444096\n",
      "No match found in IMG-20240727-WA0072.jpg\n",
      "Match found in IMG-20240727-WA0073.jpg: Akanoob\n",
      "Face distance: 0.2127581439775404\n",
      "Match found in IMG-20240727-WA0074.jpg: Akanoob\n",
      "Face distance: 0.050310430200516086\n",
      "Match found in IMG-20240727-WA0076.jpg: Akanoob\n",
      "Face distance: 0.20182330023449468\n"
     ]
    }
   ],
   "source": [
    "# Function to find faces in an array of images and check if they match the reference encoding\n",
    "def search_faces_in_images(image_paths, known_encodings, known_names):\n",
    "    for image_path in image_paths:\n",
    "        # Load the image to check\n",
    "        current_image = face_recognition.load_image_file(directory+'/'+image_path)\n",
    "        \n",
    "        # Find all faces in the current image and get their encodings\n",
    "        face_locations = face_recognition.face_locations(current_image)\n",
    "        face_encodings = face_recognition.face_encodings(current_image, face_locations)\n",
    "        \n",
    "        # Compare each face encoding to the known encodings\n",
    "        for face_encoding in face_encodings:\n",
    "            matches = face_recognition.compare_faces(known_encodings, face_encoding)\n",
    "            face_distances = face_recognition.face_distance(known_encodings, face_encoding)\n",
    "            \n",
    "            # If a match is found, get the name of the person\n",
    "            best_match_index = np.argmin(face_distances)\n",
    "            if matches[best_match_index]:\n",
    "                name = known_names[best_match_index]\n",
    "                print(f\"Match found in {image_path}: {name}\")\n",
    "                print(f\"Face distance: {face_distances[best_match_index]}\")\n",
    "            else:\n",
    "                print(f\"No match found in {image_path}\")\n",
    "\n",
    "# Example usage:\n",
    "search_faces_in_images(image_paths_to_search, known_encodings, known_names)"
   ]
  },
  {
   "cell_type": "code",
   "execution_count": null,
   "id": "57118588-873a-4114-b8c3-97f60d2bc20e",
   "metadata": {},
   "outputs": [],
   "source": []
  }
 ],
 "metadata": {
  "kernelspec": {
   "display_name": "Python 3 (ipykernel)",
   "language": "python",
   "name": "python3"
  },
  "language_info": {
   "codemirror_mode": {
    "name": "ipython",
    "version": 3
   },
   "file_extension": ".py",
   "mimetype": "text/x-python",
   "name": "python",
   "nbconvert_exporter": "python",
   "pygments_lexer": "ipython3",
   "version": "3.12.4"
  }
 },
 "nbformat": 4,
 "nbformat_minor": 5
}
